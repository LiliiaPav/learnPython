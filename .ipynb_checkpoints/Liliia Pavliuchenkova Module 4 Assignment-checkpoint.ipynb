{
 "cells": [
  {
   "cell_type": "markdown",
   "id": "6343c1d8",
   "metadata": {},
   "source": [
    "#Liliia Pavliuchenkova Module 4 Assignment"
   ]
  },
  {
   "cell_type": "markdown",
   "id": "0c65c92a",
   "metadata": {},
   "source": [
    "##1. Write a code segment that opens a file named file.txt for input and prints the number of lines in that file."
   ]
  },
  {
   "cell_type": "code",
   "execution_count": 1,
   "id": "c305d4f8",
   "metadata": {},
   "outputs": [
    {
     "name": "stdout",
     "output_type": "stream",
     "text": [
      "4\n"
     ]
    }
   ],
   "source": [
    "with open ('file.txt', 'r') as myfile:\n",
    "    test=myfile.readlines()\n",
    "    print(len(test))"
   ]
  },
  {
   "cell_type": "markdown",
   "id": "505d1466",
   "metadata": {},
   "source": [
    "##2. Write a code segment that opens a file for input and prints the number of five-letter words in the file."
   ]
  },
  {
   "cell_type": "code",
   "execution_count": 2,
   "id": "37d07e82",
   "metadata": {},
   "outputs": [
    {
     "name": "stdout",
     "output_type": "stream",
     "text": [
      "3\n"
     ]
    }
   ],
   "source": [
    "with open ('file.txt', 'r') as myfile:\n",
    "    result=[]\n",
    "    text=myfile.read()\n",
    "    text=text.split()\n",
    "    for i in text:\n",
    "        if len(i)==5:\n",
    "            result.append(i)\n",
    "\n",
    "    print(len(result))"
   ]
  },
  {
   "cell_type": "markdown",
   "id": "e77e4fd4",
   "metadata": {},
   "source": [
    "##3. Write a code segment that prints the names of all the items in the current working directory."
   ]
  },
  {
   "cell_type": "code",
   "execution_count": 4,
   "id": "7b19aac4",
   "metadata": {},
   "outputs": [
    {
     "name": "stdout",
     "output_type": "stream",
     "text": [
      "Files in the directory: /Users/liliiapavliuchenkova/Documents/learnPython\n",
      "Queue.py\n",
      "file.txt\n",
      "Tree_PreorderTraversal.py\n",
      "numpy_navigation.py\n",
      "2D-Array.py\n",
      "StandardDeviation.py\n",
      "sql.txt\n",
      "cvsFile\n",
      "plot.py\n",
      "Interquartile Range.py\n",
      ".DS_Store\n",
      "Weighted Mean.py\n",
      "LinkedListDeleteNode.py\n",
      "DateTime.ipynb\n",
      "Stack_maximum.py\n",
      "Challenge100days\n",
      "Module 3 Assignment.ipynb\n",
      "DoubleLinkedList.py\n",
      "ListTuple.ipynb\n",
      "Sorting_tuple_dict_mail.py\n",
      "generatorPrimes.py\n",
      "ActualData.txt\n",
      "fileToTest.txt\n",
      "USResident.py\n",
      "mail_from_offen.py\n",
      "histogram.py\n",
      "dictionary_from_lists.py\n",
      "Dynamic_Array.py\n",
      "mbox-short.txt\n",
      "CelsiusToFahrenheit.py\n",
      "Linked_list.py\n",
      "LinkedListMerge.py\n",
      "Stack_Balanced_Brackets.py\n",
      "LinkedListCompareTwo.py\n",
      "Sorting.py\n",
      "dictionary.ipynb\n",
      "mbox.txt\n",
      "Liliia_Pavliuchenkova_Assignment2.ipynb\n",
      "reducer.py\n",
      "DB_mail_short.py\n",
      "vizualiz.py\n",
      "my_numpy.py\n",
      "examlpe.txt\n",
      "LinkedListReverse.py\n",
      "IOtest.txt\n",
      "fileI_O.py\n",
      "names.csv\n",
      "SQLConnection_pypyodbc.py\n",
      "LinkedListInsertTail.py\n",
      "lesson_2_reflection_prompts.txt\n",
      "TimeEfficiency.py\n",
      "Liliia Pavliuchenkova Module 4 Assignment.ipynb\n",
      "MergeFiles.py\n",
      "LinkedListPrintReverse.py\n",
      "Stack.py\n",
      "Quartiles.py\n",
      "IOfile.py\n",
      "File_Input_Output.ipynb\n",
      "BuildingTextGenerator.py\n",
      "Person_classes2.py\n",
      "DB_mail_full.py\n",
      ".ipynb_checkpoints\n",
      "SQLConnection_pyodbc.py\n",
      "LinkedListInsertSomePosition.py\n",
      "Person_classes.py\n",
      "regular_expressions.py\n",
      ".git\n",
      "fileToList_romeo.py\n",
      "sometest.txt\n",
      "Romeo.txt\n",
      "lesson_3_reflection_prompts.txt\n",
      "Bisection_Recur.py\n",
      "study.py\n",
      "lift_rotation.py\n",
      "mean_madian_mode.py\n",
      "Bisection.py\n",
      "find_char.py\n"
     ]
    }
   ],
   "source": [
    "import os\n",
    "currentDir = os.getcwd()\n",
    "print(f\"Files in the directory: {currentDir}\")\n",
    "for file in  os.listdir(currentDir):\n",
    "    print(file)"
   ]
  },
  {
   "cell_type": "markdown",
   "id": "35d1ba8f",
   "metadata": {},
   "source": [
    "##4. Write a code segment that prompts the user for a file. If the file does not exist then the program should print an error. Otherwise, the program should print its contents."
   ]
  },
  {
   "cell_type": "code",
   "execution_count": 5,
   "id": "0e0f96b2",
   "metadata": {},
   "outputs": [
    {
     "name": "stdout",
     "output_type": "stream",
     "text": [
      "Enter file name: Romeo.txt\n",
      "But soft what light through yonder window breaks\n",
      "It is the east and Juliet is the sun\n",
      "Arise fair sun and kill the envious moon\n",
      "Who is already sick and pale with grief"
     ]
    }
   ],
   "source": [
    "currentDir = os.getcwd()\n",
    "fileToWork = input(r\"Enter file name: \")\n",
    "fileToWork = currentDir+'/'+fileToWork\n",
    "if os.path.isfile(fileToWork):\n",
    "    with open (fileToWork, 'r') as myfile:\n",
    "        for line in myfile:\n",
    "            print(line, end='')\n",
    "else:\n",
    "    print(f\"File {fileToWork} doesn't exist\")"
   ]
  },
  {
   "cell_type": "code",
   "execution_count": 6,
   "id": "a162e865",
   "metadata": {},
   "outputs": [
    {
     "name": "stdout",
     "output_type": "stream",
     "text": [
      "Enter file name: Juliet.txt\n",
      "File /Users/liliiapavliuchenkova/Documents/learnPython/Juliet.txt doesn't exist\n"
     ]
    }
   ],
   "source": [
    "currentDir = os.getcwd()\n",
    "fileToWork = input(r\"Enter file name: \")\n",
    "fileToWork = currentDir+'/'+fileToWork\n",
    "if os.path.isfile(fileToWork):\n",
    "    with open (fileToWork, 'r') as myfile:\n",
    "        for line in myfile:\n",
    "            print(line, end='')\n",
    "else:\n",
    "    print(f\"File {fileToWork} doesn't exist\")"
   ]
  },
  {
   "cell_type": "markdown",
   "id": "9ffef9af",
   "metadata": {},
   "source": [
    "##5. Create a file called accounts.txt and enter information in the file"
   ]
  },
  {
   "cell_type": "code",
   "execution_count": null,
   "id": "7505a72f",
   "metadata": {},
   "outputs": [],
   "source": []
  },
  {
   "cell_type": "markdown",
   "id": "026df472",
   "metadata": {},
   "source": [
    "##6. In the accounts.txt file:\n",
    "\n",
    "update the name 'Zoltar' to 'Robert' \n",
    "create a tempfile with the new data\n",
    "remove accounts.txt file from the directory\n",
    "rename the tempfile to a new file called myaccounts.txt"
   ]
  },
  {
   "cell_type": "code",
   "execution_count": null,
   "id": "84bbdf22",
   "metadata": {},
   "outputs": [],
   "source": []
  }
 ],
 "metadata": {
  "kernelspec": {
   "display_name": "Python 3 (ipykernel)",
   "language": "python",
   "name": "python3"
  },
  "language_info": {
   "codemirror_mode": {
    "name": "ipython",
    "version": 3
   },
   "file_extension": ".py",
   "mimetype": "text/x-python",
   "name": "python",
   "nbconvert_exporter": "python",
   "pygments_lexer": "ipython3",
   "version": "3.10.11"
  }
 },
 "nbformat": 4,
 "nbformat_minor": 5
}
