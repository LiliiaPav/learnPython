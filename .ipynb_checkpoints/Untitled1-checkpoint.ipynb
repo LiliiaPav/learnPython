{
 "cells": [
  {
   "cell_type": "code",
   "execution_count": 7,
   "id": "4e03d722",
   "metadata": {},
   "outputs": [
    {
     "name": "stdout",
     "output_type": "stream",
     "text": [
      "Enter birthday (MM/DD/YY): 04/08/68\n",
      "04/08/2068\n",
      "2068\n"
     ]
    },
    {
     "ename": "AttributeError",
     "evalue": "attribute 'year' of 'datetime.date' objects is not writable",
     "output_type": "error",
     "traceback": [
      "\u001b[0;31m---------------------------------------------------------------------------\u001b[0m",
      "\u001b[0;31mAttributeError\u001b[0m                            Traceback (most recent call last)",
      "Cell \u001b[0;32mIn[7], line 10\u001b[0m\n\u001b[1;32m      7\u001b[0m \u001b[38;5;28mprint\u001b[39m(birthday_date\u001b[38;5;241m.\u001b[39myear)\n\u001b[1;32m      8\u001b[0m \u001b[38;5;28;01mif\u001b[39;00m birthday_date\u001b[38;5;241m.\u001b[39myear\u001b[38;5;241m>\u001b[39m datetime\u001b[38;5;241m.\u001b[39mtoday()\u001b[38;5;241m.\u001b[39myear:\n\u001b[0;32m---> 10\u001b[0m     \u001b[43mbirthday_date\u001b[49m\u001b[38;5;241;43m.\u001b[39;49m\u001b[43myear\u001b[49m \u001b[38;5;241m=\u001b[39m birthday_date\u001b[38;5;241m.\u001b[39mreplace(year\u001b[38;5;241m=\u001b[39mbirthday_date\u001b[38;5;241m.\u001b[39myear\u001b[38;5;241m-\u001b[39m\u001b[38;5;241m100\u001b[39m)\n",
      "\u001b[0;31mAttributeError\u001b[0m: attribute 'year' of 'datetime.date' objects is not writable"
     ]
    }
   ],
   "source": [
    "from datetime import datetime, timedelta\n",
    "\n",
    "birthday_str = input ('Enter birthday (MM/DD/YY): ')\n",
    "birthday_date = datetime.strptime(birthday_str, '%m/%d/%y') #object\n",
    "\n",
    "print(birthday_date.strftime('%m/%d/%Y'))\n",
    "print(birthday_date.year)\n",
    "if birthday_date.year> datetime.today().year:\n",
    "    \n",
    "    birthday_date = birthday_date.replace(year=birthday_date.year-100)"
   ]
  },
  {
   "cell_type": "code",
   "execution_count": null,
   "id": "25a5bc1d",
   "metadata": {},
   "outputs": [],
   "source": []
  },
  {
   "cell_type": "code",
   "execution_count": null,
   "id": "44e9ff24",
   "metadata": {},
   "outputs": [],
   "source": []
  }
 ],
 "metadata": {
  "kernelspec": {
   "display_name": "Python 3 (ipykernel)",
   "language": "python",
   "name": "python3"
  },
  "language_info": {
   "codemirror_mode": {
    "name": "ipython",
    "version": 3
   },
   "file_extension": ".py",
   "mimetype": "text/x-python",
   "name": "python",
   "nbconvert_exporter": "python",
   "pygments_lexer": "ipython3",
   "version": "3.10.11"
  }
 },
 "nbformat": 4,
 "nbformat_minor": 5
}
