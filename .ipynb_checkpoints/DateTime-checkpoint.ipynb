{
 "cells": [
  {
   "cell_type": "markdown",
   "id": "bca6b4fd",
   "metadata": {},
   "source": [
    "# Create a program that calculates the estimated duration of a trip in hours and minutes (same time zone). This should include an estimated date/time of departure and an estimated date/time of arrival:\n",
    "\n",
    "For the date of departure and arrival, the program should use the YYYY-MM-DD format for dates.\n",
    "\n",
    "For the time of departure and arrival , the program should use the HH:MM AM/PM format for times.\n",
    "\n",
    "For the miles and miles per hour, the program should only accept integer entries like 200 and 65. Assume that the user will enter valid data."
   ]
  },
  {
   "cell_type": "code",
   "execution_count": 1,
   "id": "aef857a8",
   "metadata": {},
   "outputs": [
    {
     "name": "stdout",
     "output_type": "stream",
     "text": [
      "Arrival Time Estimator\n",
      "\n",
      "Estimated date of departure (YYYY-MM-DD): 2019-4-4\n",
      "Estimated time of departure (HH:MM AM/PM): 9:15 PM\n",
      "Enter miles: 123\n",
      "Enter miles per hour: 70\n",
      "Estimated travel time\n",
      "Hours:  1\n",
      "Minutes:  45\n",
      "Estimated date of arrival:  2019-04-04\n",
      "Estimated time of arrival:  11:00 PM\n",
      "Continue? y/n: n\n",
      "Bye\n"
     ]
    }
   ],
   "source": [
    "from datetime import datetime, timedelta\n",
    "\n",
    "def getDepartureDate():\n",
    "    dateDep_str = input ('Estimated date of departure (YYYY-MM-DD): ')\n",
    "    dateDep = datetime.strptime(dateDep_str, '%Y-%m-%d')\n",
    "    return dateDep\n",
    "\n",
    "    \n",
    "def getDepartureTime():\n",
    "    timeDep_str = input ('Estimated time of departure (HH:MM AM/PM): ')\n",
    "    timeDep = datetime.strptime(timeDep_str, \"%I:%M %p\").time()\n",
    "    return timeDep\n",
    "\n",
    "\n",
    "def getMiles():\n",
    "    miles_str = input ('Enter miles: ')\n",
    "    miles=int(miles_str)\n",
    "    return miles\n",
    "\n",
    "\n",
    "def getSpeed():\n",
    "    speed_str = input ('Enter miles per hour: ')\n",
    "    speed=int(speed_str)\n",
    "    return speed\n",
    "\n",
    "def main():\n",
    "    while True:\n",
    "        print('Arrival Time Estimator\\n')\n",
    "\n",
    "        dateD= getDepartureDate()\n",
    "        timeD= getDepartureTime()\n",
    "        milesToGo=getMiles()\n",
    "        speed = getSpeed()\n",
    "\n",
    "\n",
    "        #departure time in minutes\n",
    "        depHours=(timeD).hour\n",
    "        depMin=(timeD).minute\n",
    "\n",
    "\n",
    "        departureInMinutes = depHours*60 + depMin\n",
    "        departure=dateD+timedelta(minutes=departureInMinutes)\n",
    "\n",
    "        hoursWay = milesToGo//speed\n",
    "        minutesWay = int((milesToGo/speed - hoursWay)*60)\n",
    "\n",
    "        tempMin = hoursWay*60+minutesWay\n",
    "        timeWay = timedelta(minutes=tempMin) \n",
    "        arrDate = departure + timeWay\n",
    "\n",
    "        print('Estimated travel time')\n",
    "        print('Hours: ', hoursWay)\n",
    "        print('Minutes: ', minutesWay)\n",
    "        print('Estimated date of arrival: ', arrDate.strftime('%Y-%m-%d'))\n",
    "        print('Estimated time of arrival: ', arrDate.strftime('%I:%M %p'))\n",
    "        \n",
    "        result = input('Continue? y/n: ')\n",
    "        if result.lower() !='y':\n",
    "            print('Bye')\n",
    "            break\n",
    "        \n",
    "\n",
    "\n",
    "if __name__=='__main__':\n",
    "    main()"
   ]
  },
  {
   "cell_type": "code",
   "execution_count": null,
   "id": "17dc7e5b",
   "metadata": {},
   "outputs": [],
   "source": []
  }
 ],
 "metadata": {
  "kernelspec": {
   "display_name": "Python 3 (ipykernel)",
   "language": "python",
   "name": "python3"
  },
  "language_info": {
   "codemirror_mode": {
    "name": "ipython",
    "version": 3
   },
   "file_extension": ".py",
   "mimetype": "text/x-python",
   "name": "python",
   "nbconvert_exporter": "python",
   "pygments_lexer": "ipython3",
   "version": "3.10.11"
  }
 },
 "nbformat": 4,
 "nbformat_minor": 5
}
