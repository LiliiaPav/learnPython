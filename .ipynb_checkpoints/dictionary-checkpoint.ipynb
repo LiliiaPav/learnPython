{
 "cells": [
  {
   "cell_type": "code",
   "execution_count": 24,
   "id": "e21a8bb2",
   "metadata": {},
   "outputs": [
    {
     "name": "stdout",
     "output_type": "stream",
     "text": [
      "{'CA': 'Canada', 'US': 'United States', 'MX': 'Mexico'}\n",
      "{'US': 'United States', 'MX': 'Mexico'}\n"
     ]
    }
   ],
   "source": [
    "countries={'CA':'Canada', 'US':'United States', 'MX': 'Mexico'}\n",
    "print(countries)\n",
    "countries.pop('CA')\n",
    "print(countries)"
   ]
  },
  {
   "cell_type": "code",
   "execution_count": 2,
   "id": "eb722341",
   "metadata": {},
   "outputs": [],
   "source": [
    "countries['GB']='Great Britain'"
   ]
  },
  {
   "cell_type": "code",
   "execution_count": 3,
   "id": "3481be63",
   "metadata": {},
   "outputs": [
    {
     "name": "stdout",
     "output_type": "stream",
     "text": [
      "{'CA': 'Canada', 'US': 'United States', 'MX': 'Mexico', 'GB': 'Great Britain'}\n"
     ]
    }
   ],
   "source": [
    "print(countries)"
   ]
  },
  {
   "cell_type": "code",
   "execution_count": 4,
   "id": "4107266d",
   "metadata": {},
   "outputs": [
    {
     "name": "stdout",
     "output_type": "stream",
     "text": [
      "88\n"
     ]
    }
   ],
   "source": [
    "students={\"Rolf\": 96, \"Anne\": 97, \"Tom\":88}\n",
    "print(students['Tom'])"
   ]
  },
  {
   "cell_type": "code",
   "execution_count": 7,
   "id": "2d5b6e5c",
   "metadata": {},
   "outputs": [
    {
     "name": "stdout",
     "output_type": "stream",
     "text": [
      "Rolf: 96\n",
      "Anne: 97\n",
      "Tom: 88\n"
     ]
    }
   ],
   "source": [
    "for student, grades in students.items():\n",
    "    print(f'{student}: {grades}')"
   ]
  },
  {
   "cell_type": "code",
   "execution_count": 8,
   "id": "cd39a1fd",
   "metadata": {},
   "outputs": [
    {
     "name": "stdout",
     "output_type": "stream",
     "text": [
      "Not found\n"
     ]
    }
   ],
   "source": [
    "if 'lili' in students: \n",
    "    print('Success')\n",
    "else:\n",
    "    print('Not found')"
   ]
  },
  {
   "cell_type": "code",
   "execution_count": 11,
   "id": "20c709ef",
   "metadata": {},
   "outputs": [
    {
     "name": "stdout",
     "output_type": "stream",
     "text": [
      "93.66666666666667\n"
     ]
    }
   ],
   "source": [
    "grades=students.values()\n",
    "print(sum(grades)/len(grades))"
   ]
  },
  {
   "cell_type": "code",
   "execution_count": 15,
   "id": "34923018",
   "metadata": {},
   "outputs": [
    {
     "name": "stdout",
     "output_type": "stream",
     "text": [
      "[('Rolf', 96), ('Anne', 97), ('Tom', 88)]\n",
      "Rolf 96\n",
      "Anne 97\n",
      "Tom 88\n"
     ]
    }
   ],
   "source": [
    "dictToTup=list(students.items())\n",
    "print(dictToTup)\n",
    "for t in dictToTup:\n",
    "    x, y =t\n",
    "    print(x, y)"
   ]
  },
  {
   "cell_type": "code",
   "execution_count": 17,
   "id": "9a9a0118",
   "metadata": {},
   "outputs": [
    {
     "name": "stdout",
     "output_type": "stream",
     "text": [
      "Honda Odyssey\n"
     ]
    }
   ],
   "source": [
    "car=(\"Honda\", 2020, \"Odyssey\")\n",
    "manufacturer, _, model = car\n",
    "print(manufacturer, model)"
   ]
  },
  {
   "cell_type": "code",
   "execution_count": 18,
   "id": "b7e94a62",
   "metadata": {},
   "outputs": [
    {
     "name": "stdout",
     "output_type": "stream",
     "text": [
      "['Jane Eyre', 'Wuthering Heights', 'Agnes Grey']\n",
      "['Jane Eyre', 'Wuthering Heights', 'The Professor']\n"
     ]
    }
   ],
   "source": [
    "listEx = ['Jane Eyre', 'Wuthering Heights', 'Agnes Grey']\n",
    "tupleEx = ('Jane Eyre', 'Wuthering Heights', 'Agnes Grey')\n",
    "setEx = {'Jane Eyre', 'Wuthering Heights', 'Agnes Grey'}\n",
    "print(listEx)\n",
    "listEx[2]='The Professor'\n",
    "print(listEx)\n"
   ]
  },
  {
   "cell_type": "code",
   "execution_count": 21,
   "id": "fe5f0970",
   "metadata": {},
   "outputs": [
    {
     "name": "stdout",
     "output_type": "stream",
     "text": [
      "['Jane Eyre', 'Wuthering Heights', 'Agnes Grey', 'Villette']\n",
      "{'Villette', 'Wuthering Heights', 'Jane Eyre', 'Agnes Grey'}\n"
     ]
    }
   ],
   "source": [
    "listEx = ['Jane Eyre', 'Wuthering Heights', 'Agnes Grey']\n",
    "listEx.append('Villette')\n",
    "setEx = {'Jane Eyre', 'Wuthering Heights', 'Agnes Grey'}\n",
    "setEx.add('Villette')\n",
    "print(listEx)\n",
    "print(setEx)"
   ]
  },
  {
   "cell_type": "code",
   "execution_count": 22,
   "id": "97df341d",
   "metadata": {},
   "outputs": [
    {
     "name": "stdout",
     "output_type": "stream",
     "text": [
      "Jane Eyre Wuthering Heights Agnes Grey\n"
     ]
    }
   ],
   "source": [
    "tupleEx = ('Jane Eyre', 'Wuthering Heights', 'Agnes Grey')\n",
    "book1, book2, book3=tupleEx\n",
    "print(book1, book2, book3)"
   ]
  },
  {
   "cell_type": "code",
   "execution_count": 23,
   "id": "a0da7514",
   "metadata": {},
   "outputs": [
    {
     "name": "stdout",
     "output_type": "stream",
     "text": [
      "['Jane Eyre', 'Wuthering Heights']\n",
      "{'Wuthering Heights', 'Jane Eyre'}\n"
     ]
    }
   ],
   "source": [
    "listEx = ['Jane Eyre', 'Wuthering Heights', 'Agnes Grey']\n",
    "listEx.remove('Agnes Grey')\n",
    "setEx = {'Jane Eyre', 'Wuthering Heights', 'Agnes Grey'}\n",
    "setEx.remove('Agnes Grey')\n",
    "print(listEx)\n",
    "print(setEx)"
   ]
  },
  {
   "cell_type": "code",
   "execution_count": 25,
   "id": "50d0f85c",
   "metadata": {},
   "outputs": [
    {
     "name": "stdout",
     "output_type": "stream",
     "text": [
      "dict_values([96, 97, 88])\n"
     ]
    }
   ],
   "source": [
    "print(grades)"
   ]
  },
  {
   "cell_type": "code",
   "execution_count": 27,
   "id": "e86eacf9",
   "metadata": {},
   "outputs": [
    {
     "name": "stdout",
     "output_type": "stream",
     "text": [
      "[105.6, 106.7, 96.8, 88.0]\n"
     ]
    }
   ],
   "source": [
    "grades=[96, 97, 88, 80]\n",
    "gradesWithBonus=[num+num*0.1 for num in grades]\n",
    "print(gradesWithBonus)"
   ]
  },
  {
   "cell_type": "code",
   "execution_count": 28,
   "id": "204d0115",
   "metadata": {},
   "outputs": [
    {
     "name": "stdout",
     "output_type": "stream",
     "text": [
      "{'Rolf': ('Rolf', 96, 98), 'Anne': ('Anne', 97, 95), 'Tom': ('Tom', 88, 90)}\n"
     ]
    }
   ],
   "source": [
    "students=[(\"Rolf\", 96, 98), (\"Anne\", 97, 95), (\"Tom\", 88, 90)]\n",
    "\n",
    "student_grades={student[0]:student for student in students}\n",
    "print(student_grades)"
   ]
  },
  {
   "cell_type": "code",
   "execution_count": 36,
   "id": "863fdeeb",
   "metadata": {},
   "outputs": [
    {
     "name": "stdout",
     "output_type": "stream",
     "text": [
      "{'Rolf': [96, 98], 'Anne': [97, 95], 'Tom': [88, 90]}\n"
     ]
    }
   ],
   "source": [
    "students=[[\"Rolf\", 96, 98], [\"Anne\", 97, 95], [\"Tom\", 88, 90]]\n",
    "    \n",
    "student_grades={x[0]: x[1:] for x in students}\n",
    "print(student_grades)\n"
   ]
  },
  {
   "cell_type": "code",
   "execution_count": 37,
   "id": "dfcdbf0d",
   "metadata": {},
   "outputs": [
    {
     "name": "stdout",
     "output_type": "stream",
     "text": [
      "('Monday', [67, 71, 74, 77])\n",
      "('Tuesday', [52, 56, 66, 50])\n",
      "('Wednesday', [77, 80, 87, 95])\n",
      "('Thursday', [67, 77, 81, 77])\n",
      "('Friday', [54, 60, 67, 60])\n"
     ]
    }
   ],
   "source": [
    "temperatures = {\n",
    "'Monday': [67, 71, 74, 77],\n",
    "'Tuesday': [52, 56, 66 , 50],\n",
    "'Wednesday': [77, 80, 87 , 95],\n",
    "'Thursday': [67, 77, 81 , 77],\n",
    "'Friday': [54 , 60 , 67, 60],\n",
    "}\n",
    "for s in temperatures.items():\n",
    "     print(s)"
   ]
  },
  {
   "cell_type": "code",
   "execution_count": 38,
   "id": "f22cdaf3",
   "metadata": {},
   "outputs": [
    {
     "name": "stdout",
     "output_type": "stream",
     "text": [
      "Monday [67, 71, 74, 77]\n"
     ]
    }
   ],
   "source": [
    "t=('Monday', [67, 71, 74, 77]) \n",
    "x, y =t\n",
    "print(x, y)\n"
   ]
  },
  {
   "cell_type": "code",
   "execution_count": 48,
   "id": "fa1b4854",
   "metadata": {},
   "outputs": [
    {
     "name": "stdout",
     "output_type": "stream",
     "text": [
      "Word Count\n",
      "a3\n",
      "of4\n",
      "peppers4\n",
      "pickled4\n",
      "piper4\n",
      "peck4\n",
      "picked4\n",
      "peter4\n"
     ]
    }
   ],
   "source": [
    "tongueTw='Peter Piper picked a peck of pickled peppers A peck of pickled peppers Peter Piper picked if Peter Piper picked a peck of pickled peppers Where is the peck of pickled peppers Peter Piper picked'\n",
    "\n",
    "unique=set(tongueTw.lower().split(' '))\n",
    "allWords=list(tongueTw.lower().split(' '))\n",
    "keyVal={}\n",
    "for word in unique:\n",
    "    count=0\n",
    "    for x in allWords:\n",
    "        if x==word:\n",
    "            count+=1\n",
    "    keyVal[word]= count\n",
    "print (\"Word\", \"Count\")\n",
    "for k, v in keyVal.items():\n",
    "    if v>1:\n",
    "        print(f'{k}{v}')"
   ]
  },
  {
   "cell_type": "code",
   "execution_count": null,
   "id": "06263ebe",
   "metadata": {},
   "outputs": [],
   "source": []
  }
 ],
 "metadata": {
  "kernelspec": {
   "display_name": "Python 3 (ipykernel)",
   "language": "python",
   "name": "python3"
  },
  "language_info": {
   "codemirror_mode": {
    "name": "ipython",
    "version": 3
   },
   "file_extension": ".py",
   "mimetype": "text/x-python",
   "name": "python",
   "nbconvert_exporter": "python",
   "pygments_lexer": "ipython3",
   "version": "3.10.11"
  }
 },
 "nbformat": 4,
 "nbformat_minor": 5
}
