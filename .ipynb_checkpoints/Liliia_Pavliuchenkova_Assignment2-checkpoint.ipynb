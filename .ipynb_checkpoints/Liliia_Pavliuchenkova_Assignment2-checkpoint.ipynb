{
 "cells": [
  {
   "cell_type": "markdown",
   "id": "6f4a47e4",
   "metadata": {},
   "source": [
    "#Liliia Pavliuchenkova Assignment 2"
   ]
  },
  {
   "cell_type": "markdown",
   "id": "7ec68572",
   "metadata": {},
   "source": [
    "##Q1. To sort a list in descending order, call list method sort with the optional keyword argument ____ set to True."
   ]
  },
  {
   "cell_type": "markdown",
   "id": "f019a316",
   "metadata": {},
   "source": [
    "### reverse - list.sort(reverse=True)"
   ]
  },
  {
   "cell_type": "code",
   "execution_count": 4,
   "id": "5f9cc33a",
   "metadata": {},
   "outputs": [
    {
     "name": "stdout",
     "output_type": "stream",
     "text": [
      "Sorted: ['apples', 'bananas', 'grapes', 'oranges']\n",
      "Descending order: ['oranges', 'grapes', 'bananas', 'apples']\n"
     ]
    }
   ],
   "source": [
    "myList=['apples', 'bananas', 'oranges', 'grapes']\n",
    "myList.sort()\n",
    "print(f\"Sorted: {myList}\")\n",
    "myList.sort(reverse=True)\n",
    "print(f'Descending order: {myList}')\n"
   ]
  },
  {
   "cell_type": "markdown",
   "id": "a73bea70",
   "metadata": {},
   "source": [
    "##Q2. Insert 10 random letters in the range ‘a’ through ‘z’ into a list. Perform the following tasks and display your results\n",
    "\n",
    "a. Sort the list in ascending order\n",
    "\n",
    "b. Sort the list in descending order\n",
    "\n",
    "c. Get the unique values sort them in ascending order"
   ]
  },
  {
   "cell_type": "code",
   "execution_count": 32,
   "id": "4dda9f21",
   "metadata": {},
   "outputs": [
    {
     "name": "stdout",
     "output_type": "stream",
     "text": [
      "Random Letters: \n",
      "['j', 'd', 'u', 'e', 'k', 'e', 'w', 'k', 'u', 'k']\n",
      "Sort the list in ascending order.\n",
      "['d', 'e', 'e', 'j', 'k', 'k', 'k', 'u', 'u', 'w']\n",
      "Sort the list in descending order.\n",
      "['w', 'u', 'u', 'k', 'k', 'k', 'j', 'e', 'e', 'd']\n",
      "Unique values sorted in as ascending order.\n",
      "['d', 'e', 'j', 'k', 'u', 'w']\n"
     ]
    }
   ],
   "source": [
    "import random\n",
    " \n",
    "abc=['a', 'b', 'c', 'd', 'e', 'f', 'g', 'h', 'i', 'j', 'k', 'l', 'm', 'n', 'o', 'p', 'q', 'r', 's', 't', 'u', 'v', 'w', 'x', 'y', 'z']\n",
    "listToWork = []\n",
    "# using randrange() to generate  a number in range from 1 to 26\n",
    "print(\"Random Letters: \", end=\"\\n\")\n",
    "for i in range(10):\n",
    "    num=random.randrange(0, 26)\n",
    "    listToWork.append(abc[num])\n",
    "\n",
    "print (listToWork)\n",
    "listToWork.sort()\n",
    "print ('Sort the list in ascending order.')\n",
    "print (listToWork, end=\"\\n\")\n",
    "print ('Sort the list in descending order.')\n",
    "listToWork.sort(reverse=True)\n",
    "print (listToWork, end=\"\\n\")\n",
    "print ('Unique values sorted in as ascending order.')\n",
    "# convert to set to remove repeating and convert back to the list, sort\n",
    "toSet=set(listToWork)\n",
    "toList=list(toSet)\n",
    "toList.sort()\n",
    "print(toList)"
   ]
  },
  {
   "cell_type": "markdown",
   "id": "b7a8ce1e",
   "metadata": {},
   "source": [
    "##Q3. Create a program that a user can use to manage the primary email address and phone number for a contact.\n",
    "\n",
    "a. Use a multi-dimensional list to store the data for the contacts. Provide starting data for two or more contacts.\n",
    "\n",
    "b.  For the view and del commands, display an error message if the user enters an invalid contact number.\n",
    "\n",
    "c. When you exit the program, all changes that you made to the contact list are lost."
   ]
  },
  {
   "cell_type": "code",
   "execution_count": 46,
   "id": "82653460",
   "metadata": {},
   "outputs": [
    {
     "name": "stdout",
     "output_type": "stream",
     "text": [
      "Contact Manager\n",
      "\n",
      "COMMAND MENU:\n",
      "list - Display all contacts\n",
      "view - View a contact\n",
      "add - Add a contact\n",
      "del - Delete a contact\n",
      "exit - Exit program\n",
      "\n",
      "Command: list\n",
      "1. Tom Hanks\n",
      "2. Johnny Depp\n",
      "3. Gary Oldman\n",
      "4. Benedict Cumberbatch\n",
      "\n",
      "Command: view\n",
      "Number: 3\n",
      "Name: Gary Oldman\n",
      "Email: GOldman@gmail.com\n",
      "Phone: +1 422 4456 8890\n",
      "\n",
      "\n",
      "Command: add\n",
      "Enter the name: Margot Robbie\n",
      "Enter the email: MRobbie@barbie.com\n",
      "Enter the phone number: +14258008800\n",
      "Margot Robbie was added. \n",
      "\n",
      "Command: list\n",
      "1. Tom Hanks\n",
      "2. Johnny Depp\n",
      "3. Gary Oldman\n",
      "4. Benedict Cumberbatch\n",
      "5. Margot Robbie\n",
      "\n",
      "Command: del\n",
      "Number: 2\n",
      "Johnny Depp will be deleted\n",
      "Command: list\n",
      "1. Tom Hanks\n",
      "2. Gary Oldman\n",
      "3. Benedict Cumberbatch\n",
      "4. Margot Robbie\n",
      "\n",
      "Command: exit\n",
      "Bye!\n"
     ]
    }
   ],
   "source": [
    "def display_menu():\n",
    "    print ('Contact Manager')\n",
    "    print ()\n",
    "    print ('COMMAND MENU:')\n",
    "    print ('list - Display all contacts')\n",
    "    print ('view - View a contact')\n",
    "    print ('add - Add a contact')\n",
    "    print ('del - Delete a contact')\n",
    "    print ('exit - Exit program')\n",
    "    print ()\n",
    "    \n",
    "    \n",
    "def display(current_list):\n",
    "    if (len(current_list)>0):\n",
    "        for i in range(len(current_list)):\n",
    "            print(f\"{i+1}. {current_list[i][0]}\") \n",
    "        print()\n",
    "    else:\n",
    "        print(\"No contacts in the list\")\n",
    "\n",
    "def view(current_list):\n",
    "    toView = int(input('Number: '))\n",
    "    \n",
    "    if (len(current_list)>0):\n",
    "        \n",
    "        if toView>0 and toView<=len(current_list):\n",
    "            print(f\"Name: {current_list[toView-1][0]}\\nEmail: {current_list[toView-1][1]}\\nPhone: {current_list[toView-1][2]}\\n\") \n",
    "            print()\n",
    "        else: \n",
    "            print('Invalid number')\n",
    "    else:\n",
    "        print(\"No contacts in the list\")\n",
    "\n",
    "def add(current_list):\n",
    "    toAddName= input('Enter the name: ')\n",
    "    toAddTitle= input('Enter the email: ')\n",
    "    toAddYears= input('Enter the phone number: ')\n",
    "    toAdd = [toAddName, toAddTitle, int(toAddYears)]\n",
    "    current_list.append(toAdd)\n",
    "    print(toAdd[0], 'was added. \\n')\n",
    "\n",
    "def delete(current_list):\n",
    "    toDelete = input('Number: ')\n",
    "    if int(toDelete)>0 and int(toDelete)<=len(current_list):\n",
    "        print(current_list[int(toDelete)-1][0], 'will be deleted')\n",
    "        current_list=current_list.pop(int(toDelete)-1)\n",
    "        \n",
    "    else:\n",
    "        print(\"Wrong number. A contact doesn't exist\")\n",
    "\n",
    "\n",
    "def main():\n",
    "    contact_list = [['Tom Hanks', 'THanks@gmail.com', '+1 433 4567 4587'] ,\n",
    "                     ['Johnny Depp', 'JDepp@gmail.com', '+1 422 3456 7890'],\n",
    "                     ['Gary Oldman', 'GOldman@gmail.com', '+1 422 4456 8890'],\n",
    "                     ['Benedict Cumberbatch', 'BCumberbatch@gmail.com', '+1 322 3000 7890']]\n",
    "    display_menu()\n",
    "    while True:\n",
    "        command = input ('Command: ')\n",
    "        if command.lower()=='list':\n",
    "            display(contact_list)\n",
    "        elif command.lower() == 'view':\n",
    "            view(contact_list)\n",
    "        elif command.lower() == 'add':\n",
    "            add(contact_list)\n",
    "        elif command.lower() == 'del':\n",
    "            delete(contact_list)\n",
    "        elif command.lower() == 'exit':\n",
    "            break\n",
    "        else:\n",
    "            print ('That is not a valid command. Please try again. \\n')\n",
    "    print(\"Bye!\")\n",
    "if __name__=='__main__':\n",
    "    main()"
   ]
  }
 ],
 "metadata": {
  "kernelspec": {
   "display_name": "Python 3 (ipykernel)",
   "language": "python",
   "name": "python3"
  },
  "language_info": {
   "codemirror_mode": {
    "name": "ipython",
    "version": 3
   },
   "file_extension": ".py",
   "mimetype": "text/x-python",
   "name": "python",
   "nbconvert_exporter": "python",
   "pygments_lexer": "ipython3",
   "version": "3.10.11"
  }
 },
 "nbformat": 4,
 "nbformat_minor": 5
}
