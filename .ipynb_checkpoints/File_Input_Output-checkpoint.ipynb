{
 "cells": [
  {
   "cell_type": "code",
   "execution_count": 1,
   "id": "a913269d",
   "metadata": {},
   "outputs": [],
   "source": [
    "myfile=open('file.txt', 'a')"
   ]
  },
  {
   "cell_type": "code",
   "execution_count": 2,
   "id": "7425b47f",
   "metadata": {},
   "outputs": [
    {
     "name": "stdout",
     "output_type": "stream",
     "text": [
      "<_io.TextIOWrapper name='file.txt' mode='r' encoding='UTF-8'>\n"
     ]
    }
   ],
   "source": [
    "print(myfile)"
   ]
  },
  {
   "cell_type": "code",
   "execution_count": 3,
   "id": "b5c6d547",
   "metadata": {},
   "outputs": [],
   "source": [
    "myfile.close()"
   ]
  },
  {
   "cell_type": "code",
   "execution_count": 4,
   "id": "065b5e22",
   "metadata": {},
   "outputs": [
    {
     "name": "stdout",
     "output_type": "stream",
     "text": [
      "['This is a test file\\n', 'Hello Student\\n', 'Testing 1,2,3 - testing !\\n', 'Python rocks !']\n"
     ]
    }
   ],
   "source": [
    "with open('file.txt', 'r') as myfile:\n",
    "    print(myfile.readlines())"
   ]
  },
  {
   "cell_type": "code",
   "execution_count": 5,
   "id": "bd412c59",
   "metadata": {},
   "outputs": [
    {
     "name": "stdout",
     "output_type": "stream",
     "text": [
      "This is a test file\n",
      "Hello Student\n",
      "Testing 1,2,3 - testing !\n",
      "Python rocks !\n"
     ]
    }
   ],
   "source": [
    "myfile=open('file.txt')\n",
    "print(myfile.read())\n",
    "myfile.close()"
   ]
  },
  {
   "cell_type": "code",
   "execution_count": 8,
   "id": "0b21b4fe",
   "metadata": {},
   "outputs": [
    {
     "name": "stdout",
     "output_type": "stream",
     "text": [
      "400\n",
      "Zoltar\n",
      "-32.16\n",
      "\n"
     ]
    }
   ],
   "source": [
    "temp=['400', 'Zoltar', '-32.16\\n']\n",
    "if 'Zoltar' in temp:\n",
    "    i=0\n",
    "    while i < len(temp):\n",
    "        if temp[i]=='Zoltar':\n",
    "            temp[i]='Robert' \n",
    "        print(temp[i])\n",
    "        i += 1\n",
    "    \n",
    "   \n",
    "    \n"
   ]
  },
  {
   "cell_type": "code",
   "execution_count": null,
   "id": "6a8aa5e6",
   "metadata": {},
   "outputs": [],
   "source": []
  }
 ],
 "metadata": {
  "kernelspec": {
   "display_name": "Python 3 (ipykernel)",
   "language": "python",
   "name": "python3"
  },
  "language_info": {
   "codemirror_mode": {
    "name": "ipython",
    "version": 3
   },
   "file_extension": ".py",
   "mimetype": "text/x-python",
   "name": "python",
   "nbconvert_exporter": "python",
   "pygments_lexer": "ipython3",
   "version": "3.10.11"
  }
 },
 "nbformat": 4,
 "nbformat_minor": 5
}
