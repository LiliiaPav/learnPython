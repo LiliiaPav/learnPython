{
 "cells": [
  {
   "cell_type": "markdown",
   "id": "963c5e14",
   "metadata": {},
   "source": [
    "#Liliia Pavliuchenkova Module 3 Assignment"
   ]
  },
  {
   "cell_type": "markdown",
   "id": "4c595fce",
   "metadata": {},
   "source": [
    "##What does this code do?\n",
    "The dictionary temperatures contain four Fahrenheit samples for each of five days. What does the “for” statement do?"
   ]
  },
  {
   "cell_type": "code",
   "execution_count": 1,
   "id": "9ca8be19",
   "metadata": {},
   "outputs": [
    {
     "name": "stdout",
     "output_type": "stream",
     "text": [
      "Monday: 72\n",
      "Tuesday: 56\n",
      "Wednesday: 85\n",
      "Thursday: 76\n",
      "Friday: 60\n"
     ]
    }
   ],
   "source": [
    "temperatures = {\n",
    "'Monday': [67, 71, 74, 77],\n",
    "'Tuesday': [52, 56, 66 , 50],\n",
    "'Wednesday': [77, 80, 87 , 95],\n",
    "'Thursday': [67, 77, 81 , 77],\n",
    "'Friday': [54 , 60 , 67, 60],\n",
    "}\n",
    "for k, v in temperatures.items():\n",
    "     print(f'{k}: {sum(v)/len(v):.0f}')"
   ]
  },
  {
   "cell_type": "markdown",
   "id": "81bab295",
   "metadata": {},
   "source": [
    "To explain what the “for” statement does, we have to understand, what we have and the destructuring variables. So, when we loop through our dictionary, we have a tuple for every interaction. This tuple has two values: ('Monday', [67, 71, 74, 77]) => a string 'Monday' and a list  [67, 71, 74, 77] for example. So, we extract values from our tuple by assigning a variables:\n",
    "\n",
    "t=('Rolf', 96)\n",
    "\n",
    "x, y =t\n",
    "\n",
    "print(x, y)\n",
    "\n",
    "=> Rolf 96\n",
    "\n",
    "t=('Monday', [67, 71, 74, 77]) \n",
    "\n",
    "x, y =t\n",
    "\n",
    "print(x, y)\n",
    "\n",
    "=> Monday [67, 71, 74, 77]\n",
    "\n",
    "So, x=’Monday’ and y= [67, 71, 74, 77]\n",
    "\n",
    "\n",
    "In our for-loop \n",
    "\n",
    "k=’Monday’ and v= [67, 71, 74, 77]\n",
    "\n",
    "Then we print k and sum(v)/len(v), where sum(v) is the sum of all items in the list, and len(v) is the length of the list => average value. \n"
   ]
  },
  {
   "cell_type": "code",
   "execution_count": 2,
   "id": "832ba337",
   "metadata": {},
   "outputs": [
    {
     "name": "stdout",
     "output_type": "stream",
     "text": [
      "('Monday', [67, 71, 74, 77])\n",
      "('Tuesday', [52, 56, 66, 50])\n",
      "('Wednesday', [77, 80, 87, 95])\n",
      "('Thursday', [67, 77, 81, 77])\n",
      "('Friday', [54, 60, 67, 60])\n"
     ]
    }
   ],
   "source": [
    "temperatures = {\n",
    "'Monday': [67, 71, 74, 77],\n",
    "'Tuesday': [52, 56, 66 , 50],\n",
    "'Wednesday': [77, 80, 87 , 95],\n",
    "'Thursday': [67, 77, 81 , 77],\n",
    "'Friday': [54 , 60 , 67, 60],\n",
    "}\n",
    "for s in temperatures.items():\n",
    "     print(s)"
   ]
  },
  {
   "cell_type": "markdown",
   "id": "7867c9df",
   "metadata": {},
   "source": [
    "##Following the instructions, write a script that counts duplicate words.\n",
    "Techniques like word frequency counting are often used to analyze published work. Other document analysis techniques are in natural language processing. Write a script that uses a dictionary to determine and print the number of duplicate words in a sentence. Treat uppercase and lowercase letters the same and assume there is no punctuation in the sentence. Words with counts larger than one have duplicates."
   ]
  },
  {
   "cell_type": "code",
   "execution_count": 3,
   "id": "2263bf43",
   "metadata": {},
   "outputs": [
    {
     "name": "stdout",
     "output_type": "stream",
     "text": [
      "WORD           COUNT\n",
      "a                3\n",
      "of               4\n",
      "peck             4\n",
      "peppers          4\n",
      "peter            4\n",
      "picked           4\n",
      "pickled          4\n",
      "piper            4\n"
     ]
    }
   ],
   "source": [
    "tongueTw='Peter Piper picked a peck of pickled peppers A peck of pickled peppers Peter Piper picked if Peter Piper picked a peck of pickled peppers Where is the peck of pickled peppers Peter Piper picked'\n",
    "\n",
    "allWords=list(tongueTw.lower().split(' '))\n",
    "allWords.sort()\n",
    "unique=set(allWords) #remove duplicates\n",
    "keyVal={}\n",
    "for word in unique:\n",
    "    count=0\n",
    "    for x in allWords:\n",
    "        if x==word:\n",
    "            count+=1\n",
    "    keyVal[word]= count\n",
    "print ('{0: >4}'.format('WORD'), '{0: >15}'.format(\"COUNT\"))\n",
    "keyVal = dict(sorted(keyVal.items())) #sort my dictionary\n",
    "for k, v in keyVal.items():\n",
    "    if v>1:\n",
    "        print('{0: <10}'.format(k), '{0: >7}'.format(v))"
   ]
  },
  {
   "cell_type": "markdown",
   "id": "127e14d1",
   "metadata": {},
   "source": [
    "##The Python list stores a collection of objects in an ordered sequence. In contrast, the dictionary stores objects in an unordered collection. Give three examples of real-world objects that can be stored in a dictionary."
   ]
  },
  {
   "cell_type": "code",
   "execution_count": 6,
   "id": "dda7103c",
   "metadata": {},
   "outputs": [
    {
     "name": "stdout",
     "output_type": "stream",
     "text": [
      "La Mesa: [91941, 91942, 91943, 919944]\n",
      "La Jolla: [92037, 92038, 92039]\n",
      "Del Mar: [92014]\n",
      "Carlsbad: [92008, 92009, 92013, 92018]\n",
      "\n",
      "TACTICAL MICH 2000: $400\n",
      "MICH 2000: $180\n",
      "BALLISTIC HELMET MICH 2000 LEVEL IV: $400\n",
      "\n",
      "The Best Of: 2010\n",
      "Supersymetriya: 2003\n",
      "Model: 2001\n",
      "Gloria: 2005\n",
      "Zemlya: 2013\n",
      "Tam, de nas nema: 1998\n",
      "Bez mezh: 2016\n",
      "Yananebibuv: 2000\n"
     ]
    }
   ],
   "source": [
    "zipCode={'La Mesa':[91941, 91942, 91943, 919944], 'La Jolla':[92037, 92038, 92039], 'Del Mar':[92014], 'Carlsbad':[92008, 92009, 92013, 92018]}\n",
    "helmets={'TACTICAL MICH 2000': '$400', 'MICH 2000':'$180', 'BALLISTIC HELMET MICH 2000 LEVEL IV':'$400'}\n",
    "okeanElzy={'The Best Of':2010, 'Supersymetriya':2003, 'Model': 2001, 'Gloria': 2005, 'Zemlya': 2013, 'Tam, de nas nema':1998, 'Bez mezh': 2016, 'Yananebibuv':2000}\n",
    "for city, zipC in zipCode.items():\n",
    "    print(f'{city}: {zipC}')\n",
    "print()\n",
    "for helmet, price in helmets.items():\n",
    "    print(f'{helmet}: {price}')\n",
    "print()\n",
    "for albom, year in okeanElzy.items():\n",
    "    print(f'{albom}: {year}')"
   ]
  },
  {
   "cell_type": "markdown",
   "id": "116bc8ae",
   "metadata": {},
   "source": [
    "##Which of the following are immutable data structures? Why ? Please explain: dictionaries and lists OR strings and tuples"
   ]
  },
  {
   "cell_type": "markdown",
   "id": "ef365a39",
   "metadata": {},
   "source": [
    "Immutable data structures are strings and tuples because we can NOT add, update, or remove items in them. We can slice a string but every time we create a new instance. We can’t just update or add a letter to the string, but we can re-assign variables.\n"
   ]
  }
 ],
 "metadata": {
  "kernelspec": {
   "display_name": "Python 3 (ipykernel)",
   "language": "python",
   "name": "python3"
  },
  "language_info": {
   "codemirror_mode": {
    "name": "ipython",
    "version": 3
   },
   "file_extension": ".py",
   "mimetype": "text/x-python",
   "name": "python",
   "nbconvert_exporter": "python",
   "pygments_lexer": "ipython3",
   "version": "3.10.11"
  }
 },
 "nbformat": 4,
 "nbformat_minor": 5
}
