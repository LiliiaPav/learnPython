{
 "cells": [
  {
   "cell_type": "code",
   "execution_count": 24,
   "id": "e21a8bb2",
   "metadata": {},
   "outputs": [
    {
     "name": "stdout",
     "output_type": "stream",
     "text": [
      "{'CA': 'Canada', 'US': 'United States', 'MX': 'Mexico'}\n",
      "{'US': 'United States', 'MX': 'Mexico'}\n"
     ]
    }
   ],
   "source": [
    "countries={'CA':'Canada', 'US':'United States', 'MX': 'Mexico'}\n",
    "print(countries)\n",
    "countries.pop('CA')\n",
    "print(countries)"
   ]
  },
  {
   "cell_type": "code",
   "execution_count": 77,
   "id": "67d51649",
   "metadata": {},
   "outputs": [
    {
     "name": "stdout",
     "output_type": "stream",
     "text": [
      "[('CA', 'Canada'), ('US', 'United States'), ('MX', 'Mexico')]\n"
     ]
    }
   ],
   "source": [
    "d={'CA':'Canada', 'US':'United States', 'MX': 'Mexico'}\n",
    "print(list(d.items()))"
   ]
  },
  {
   "cell_type": "code",
   "execution_count": 2,
   "id": "18cb29e2",
   "metadata": {},
   "outputs": [],
   "source": [
    "countries['GB']='Great Britain'"
   ]
  },
  {
   "cell_type": "code",
   "execution_count": null,
   "id": "d438fb85",
   "metadata": {},
   "outputs": [],
   "source": []
  },
  {
   "cell_type": "code",
   "execution_count": 3,
   "id": "dcf30d17",
   "metadata": {},
   "outputs": [
    {
     "name": "stdout",
     "output_type": "stream",
     "text": [
      "{'CA': 'Canada', 'US': 'United States', 'MX': 'Mexico', 'GB': 'Great Britain'}\n"
     ]
    }
   ],
   "source": [
    "print(countries)"
   ]
  },
  {
   "cell_type": "code",
   "execution_count": 4,
   "id": "0aae350a",
   "metadata": {},
   "outputs": [
    {
     "name": "stdout",
     "output_type": "stream",
     "text": [
      "88\n"
     ]
    }
   ],
   "source": [
    "students={\"Rolf\": 96, \"Anne\": 97, \"Tom\":88}\n",
    "print(students['Tom'])"
   ]
  },
  {
   "cell_type": "code",
   "execution_count": 7,
   "id": "9ef40fa0",
   "metadata": {},
   "outputs": [
    {
     "name": "stdout",
     "output_type": "stream",
     "text": [
      "Rolf: 96\n",
      "Anne: 97\n",
      "Tom: 88\n"
     ]
    }
   ],
   "source": [
    "for student, grades in students.items():\n",
    "    print(f'{student}: {grades}')"
   ]
  },
  {
   "cell_type": "code",
   "execution_count": 8,
   "id": "b24b9bd8",
   "metadata": {},
   "outputs": [
    {
     "name": "stdout",
     "output_type": "stream",
     "text": [
      "Not found\n"
     ]
    }
   ],
   "source": [
    "if 'lili' in students: \n",
    "    print('Success')\n",
    "else:\n",
    "    print('Not found')"
   ]
  },
  {
   "cell_type": "code",
   "execution_count": 11,
   "id": "b9b2a8b3",
   "metadata": {},
   "outputs": [
    {
     "name": "stdout",
     "output_type": "stream",
     "text": [
      "93.66666666666667\n"
     ]
    }
   ],
   "source": [
    "grades=students.values()\n",
    "print(sum(grades)/len(grades))"
   ]
  },
  {
   "cell_type": "code",
   "execution_count": 15,
   "id": "faadb6ff",
   "metadata": {},
   "outputs": [
    {
     "name": "stdout",
     "output_type": "stream",
     "text": [
      "[('Rolf', 96), ('Anne', 97), ('Tom', 88)]\n",
      "Rolf 96\n",
      "Anne 97\n",
      "Tom 88\n"
     ]
    }
   ],
   "source": [
    "dictToTup=list(students.items())\n",
    "print(dictToTup)\n",
    "for t in dictToTup:\n",
    "    x, y =t\n",
    "    print(x, y)"
   ]
  },
  {
   "cell_type": "code",
   "execution_count": 17,
   "id": "5204b06c",
   "metadata": {},
   "outputs": [
    {
     "name": "stdout",
     "output_type": "stream",
     "text": [
      "Honda Odyssey\n"
     ]
    }
   ],
   "source": [
    "car=(\"Honda\", 2020, \"Odyssey\")\n",
    "manufacturer, _, model = car\n",
    "print(manufacturer, model)"
   ]
  },
  {
   "cell_type": "code",
   "execution_count": 18,
   "id": "e643cb4d",
   "metadata": {},
   "outputs": [
    {
     "name": "stdout",
     "output_type": "stream",
     "text": [
      "['Jane Eyre', 'Wuthering Heights', 'Agnes Grey']\n",
      "['Jane Eyre', 'Wuthering Heights', 'The Professor']\n"
     ]
    }
   ],
   "source": [
    "listEx = ['Jane Eyre', 'Wuthering Heights', 'Agnes Grey']\n",
    "tupleEx = ('Jane Eyre', 'Wuthering Heights', 'Agnes Grey')\n",
    "setEx = {'Jane Eyre', 'Wuthering Heights', 'Agnes Grey'}\n",
    "print(listEx)\n",
    "listEx[2]='The Professor'\n",
    "print(listEx)\n"
   ]
  },
  {
   "cell_type": "code",
   "execution_count": 21,
   "id": "3d499189",
   "metadata": {},
   "outputs": [
    {
     "name": "stdout",
     "output_type": "stream",
     "text": [
      "['Jane Eyre', 'Wuthering Heights', 'Agnes Grey', 'Villette']\n",
      "{'Villette', 'Wuthering Heights', 'Jane Eyre', 'Agnes Grey'}\n"
     ]
    }
   ],
   "source": [
    "listEx = ['Jane Eyre', 'Wuthering Heights', 'Agnes Grey']\n",
    "listEx.append('Villette')\n",
    "setEx = {'Jane Eyre', 'Wuthering Heights', 'Agnes Grey'}\n",
    "setEx.add('Villette')\n",
    "print(listEx)\n",
    "print(setEx)"
   ]
  },
  {
   "cell_type": "code",
   "execution_count": 22,
   "id": "6233d832",
   "metadata": {},
   "outputs": [
    {
     "name": "stdout",
     "output_type": "stream",
     "text": [
      "Jane Eyre Wuthering Heights Agnes Grey\n"
     ]
    }
   ],
   "source": [
    "tupleEx = ('Jane Eyre', 'Wuthering Heights', 'Agnes Grey')\n",
    "book1, book2, book3=tupleEx\n",
    "print(book1, book2, book3)"
   ]
  },
  {
   "cell_type": "code",
   "execution_count": 23,
   "id": "a96c1e50",
   "metadata": {},
   "outputs": [
    {
     "name": "stdout",
     "output_type": "stream",
     "text": [
      "['Jane Eyre', 'Wuthering Heights']\n",
      "{'Wuthering Heights', 'Jane Eyre'}\n"
     ]
    }
   ],
   "source": [
    "listEx = ['Jane Eyre', 'Wuthering Heights', 'Agnes Grey']\n",
    "listEx.remove('Agnes Grey')\n",
    "setEx = {'Jane Eyre', 'Wuthering Heights', 'Agnes Grey'}\n",
    "setEx.remove('Agnes Grey')\n",
    "print(listEx)\n",
    "print(setEx)"
   ]
  },
  {
   "cell_type": "code",
   "execution_count": 25,
   "id": "5c07f92b",
   "metadata": {},
   "outputs": [
    {
     "name": "stdout",
     "output_type": "stream",
     "text": [
      "dict_values([96, 97, 88])\n"
     ]
    }
   ],
   "source": [
    "print(grades)"
   ]
  },
  {
   "cell_type": "code",
   "execution_count": 27,
   "id": "0161e60d",
   "metadata": {},
   "outputs": [
    {
     "name": "stdout",
     "output_type": "stream",
     "text": [
      "[105.6, 106.7, 96.8, 88.0]\n"
     ]
    }
   ],
   "source": [
    "grades=[96, 97, 88, 80]\n",
    "gradesWithBonus=[num+num*0.1 for num in grades]\n",
    "print(gradesWithBonus)"
   ]
  },
  {
   "cell_type": "code",
   "execution_count": 28,
   "id": "8be7f663",
   "metadata": {},
   "outputs": [
    {
     "name": "stdout",
     "output_type": "stream",
     "text": [
      "{'Rolf': ('Rolf', 96, 98), 'Anne': ('Anne', 97, 95), 'Tom': ('Tom', 88, 90)}\n"
     ]
    }
   ],
   "source": [
    "students=[(\"Rolf\", 96, 98), (\"Anne\", 97, 95), (\"Tom\", 88, 90)]\n",
    "\n",
    "student_grades={student[0]:student for student in students}\n",
    "print(student_grades)"
   ]
  },
  {
   "cell_type": "code",
   "execution_count": 36,
   "id": "f8be8cd3",
   "metadata": {},
   "outputs": [
    {
     "name": "stdout",
     "output_type": "stream",
     "text": [
      "{'Rolf': [96, 98], 'Anne': [97, 95], 'Tom': [88, 90]}\n"
     ]
    }
   ],
   "source": [
    "students=[[\"Rolf\", 96, 98], [\"Anne\", 97, 95], [\"Tom\", 88, 90]]\n",
    "    \n",
    "student_grades={x[0]: x[1:] for x in students}\n",
    "print(student_grades)\n"
   ]
  },
  {
   "cell_type": "code",
   "execution_count": 37,
   "id": "88998760",
   "metadata": {},
   "outputs": [
    {
     "name": "stdout",
     "output_type": "stream",
     "text": [
      "('Monday', [67, 71, 74, 77])\n",
      "('Tuesday', [52, 56, 66, 50])\n",
      "('Wednesday', [77, 80, 87, 95])\n",
      "('Thursday', [67, 77, 81, 77])\n",
      "('Friday', [54, 60, 67, 60])\n"
     ]
    }
   ],
   "source": [
    "temperatures = {\n",
    "'Monday': [67, 71, 74, 77],\n",
    "'Tuesday': [52, 56, 66 , 50],\n",
    "'Wednesday': [77, 80, 87 , 95],\n",
    "'Thursday': [67, 77, 81 , 77],\n",
    "'Friday': [54 , 60 , 67, 60],\n",
    "}\n",
    "for s in temperatures.items():\n",
    "     print(s)"
   ]
  },
  {
   "cell_type": "code",
   "execution_count": 38,
   "id": "f1ead528",
   "metadata": {},
   "outputs": [
    {
     "name": "stdout",
     "output_type": "stream",
     "text": [
      "Monday [67, 71, 74, 77]\n"
     ]
    }
   ],
   "source": [
    "t=('Monday', [67, 71, 74, 77]) \n",
    "x, y =t\n",
    "print(x, y)\n"
   ]
  },
  {
   "cell_type": "code",
   "execution_count": 74,
   "id": "18e6e3e7",
   "metadata": {},
   "outputs": [
    {
     "name": "stdout",
     "output_type": "stream",
     "text": [
      "WORD           COUNT\n",
      "a                3\n",
      "of               4\n",
      "peck             4\n",
      "peppers          4\n",
      "peter            4\n",
      "picked           4\n",
      "pickled          4\n",
      "piper            4\n"
     ]
    }
   ],
   "source": [
    "tongueTw='Peter Piper picked a peck of pickled peppers A peck of pickled peppers Peter Piper picked if Peter Piper picked a peck of pickled peppers Where is the peck of pickled peppers Peter Piper picked'\n",
    "\n",
    "allWords=list(tongueTw.lower().split(' '))\n",
    "allWords.sort()\n",
    "unique=set(allWords)\n",
    "keyVal={}\n",
    "for word in unique:\n",
    "    count=0\n",
    "    for x in allWords:\n",
    "        if x==word:\n",
    "            count+=1\n",
    "    keyVal[word]= count\n",
    "print ('{0: >4}'.format('WORD'), '{0: >15}'.format(\"COUNT\"))\n",
    "keyVal = dict(sorted(keyVal.items()))\n",
    "for k, v in keyVal.items():\n",
    "    if v>1:\n",
    "        print('{0: <10}'.format(k), '{0: >7}'.format(v))"
   ]
  },
  {
   "cell_type": "code",
   "execution_count": 68,
   "id": "4c3b6f09",
   "metadata": {},
   "outputs": [
    {
     "name": "stdout",
     "output_type": "stream",
     "text": [
      "[1, 2, 3, 4, 5, 6]\n"
     ]
    }
   ],
   "source": [
    "my_dict = { 'num6': 6, 'num3': 3, 'num2': 2, 'num4': 4, 'num1': 1, 'num5': 5}\n",
    "sortedDict = sorted(my_dict.values())\n",
    "\n",
    "print(sortedDict)"
   ]
  },
  {
   "cell_type": "code",
   "execution_count": 69,
   "id": "1e23001d",
   "metadata": {},
   "outputs": [
    {
     "name": "stdout",
     "output_type": "stream",
     "text": [
      "[('Cruyff', 104), ('Eusebio', 120), ('Messi', 125), ('Ronaldo', 132), ('Pele', 150)]\n"
     ]
    }
   ],
   "source": [
    "footballers_goals = {'Eusebio': 120, 'Cruyff': 104, 'Pele': 150, 'Ronaldo': 132, 'Messi': 125}\n",
    "\n",
    "sorted_footballers_by_goals = sorted(footballers_goals.items(), key=lambda x:x[1])\n",
    "print(sorted_footballers_by_goals)"
   ]
  },
  {
   "cell_type": "code",
   "execution_count": null,
   "id": "82a27ae8",
   "metadata": {},
   "outputs": [],
   "source": [
    "zipCode={'La Mesa':[91941, 91942, 91943, 919944], 'La Jolla':[92037, 92038, 92039], 'Del Mar':[92014], 'Carlsbad':[92008, 92009, 92013, 92018]}\n",
    "helmets={'TACTICAL MICH 2000': '$400', 'MICH 2000':'$180', 'BALLISTIC HELMET MICH 2000 LEVEL IV':'$400'}\n",
    "okeanElzy={' The Best Of':2010, 'Supersymetriya':2003, 'Model': 2001, 'Gloria': 2005, 'Zemlya': 2013, 'Tam, de nas nema':1998, 'Bez mezh': 2016, 'Yananebibuv':2000}\n"
   ]
  }
 ],
 "metadata": {
  "kernelspec": {
   "display_name": "Python 3 (ipykernel)",
   "language": "python",
   "name": "python3"
  },
  "language_info": {
   "codemirror_mode": {
    "name": "ipython",
    "version": 3
   },
   "file_extension": ".py",
   "mimetype": "text/x-python",
   "name": "python",
   "nbconvert_exporter": "python",
   "pygments_lexer": "ipython3",
   "version": "3.10.11"
  }
 },
 "nbformat": 4,
 "nbformat_minor": 5
}
